{
 "cells": [
  {
   "cell_type": "code",
   "execution_count": 2,
   "metadata": {},
   "outputs": [],
   "source": [
    "import os\n",
    "import random\n",
    "import glob\n",
    "import shutil\n",
    "from pathlib import Path\n",
    "\n",
    "# Define the folder path\n",
    "folder_path = r\"D:\\Project\\DPL302m\\faceSegmantation\\seprateForTest\\finalData(giveThinh)\\Train\\images\\non_makeup\"\n",
    "output_folder = r\"D:\\Project\\DPL302m\\faceSegmantation\\seprateForTest\\finalData(giveThinh)\\Test\\images\\non-makeup\"\n",
    "seg_folder = r\"D:\\Project\\DPL302m\\faceSegmantation\\seprateForTest\\finalData(giveThinh)\\Train\\segs\\non_makeup\"\n",
    "seg_remove_folder = r\"D:\\Project\\DPL302m\\faceSegmantation\\seprateForTest\\finalData(giveThinh)\\removed_segs_for_test\\non-makeup\"\n",
    "\n",
    "source_path = Path(folder_path)\n",
    "destination_path = Path(output_folder)\n",
    "seg_source_path = Path(seg_folder)\n",
    "seg_destination_path = Path(seg_remove_folder)\n",
    "\n",
    "filenames = [f for f in os.listdir(folder_path) if f.endswith(\".png\")]\n",
    "\n",
    "# filenames = glob.glob(folder_path+\"\\*\")\n",
    "# filenames\n",
    "\n",
    "selected_filenames = random.sample(filenames, 25)\n",
    "# selected_filenames\n",
    "for i in selected_filenames:\n",
    "  in_path = Path(folder_path + f\"\\{i}\")\n",
    "  out_path = Path(output_folder + f\"\\{i}\")\n",
    "  seg_in_path = Path(seg_folder + f\"\\{i}\")\n",
    "  seg_out_path = Path(seg_remove_folder + f\"\\{i}\")\n",
    "#   # out_path = output_folder\n",
    "#   print(out_path)\n",
    "#   # shutil.move(in_path, out_path)\n",
    "#   # os.rename(in_path, out_path)\n",
    "  in_path.rename(out_path)\n",
    "  seg_in_path.rename(seg_out_path)\n"
   ]
  },
  {
   "cell_type": "code",
   "execution_count": null,
   "metadata": {},
   "outputs": [],
   "source": []
  }
 ],
 "metadata": {
  "kernelspec": {
   "display_name": "condavenv",
   "language": "python",
   "name": "python3"
  },
  "language_info": {
   "codemirror_mode": {
    "name": "ipython",
    "version": 3
   },
   "file_extension": ".py",
   "mimetype": "text/x-python",
   "name": "python",
   "nbconvert_exporter": "python",
   "pygments_lexer": "ipython3",
   "version": "3.11.4"
  }
 },
 "nbformat": 4,
 "nbformat_minor": 2
}
