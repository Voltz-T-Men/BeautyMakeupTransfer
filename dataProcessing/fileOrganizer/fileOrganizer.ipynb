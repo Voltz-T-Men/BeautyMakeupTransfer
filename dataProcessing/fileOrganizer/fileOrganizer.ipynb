{
 "cells": [
  {
   "cell_type": "code",
   "execution_count": 12,
   "metadata": {},
   "outputs": [],
   "source": [
    "import os\n",
    "\n",
    "def list_files_in_folder(folder_path):\n",
    "    file_list = []\n",
    "    # Iterate through all files in the folder\n",
    "    for file_name in os.listdir(folder_path):\n",
    "        # Check if the path is a file (not a directory)\n",
    "        if os.path.isfile(os.path.join(folder_path, file_name)):\n",
    "            file_list.append(file_name)\n",
    "    return file_list\n",
    "\n",
    "# Example usage:\n",
    "folder_path = r\"D:\\Project\\DPL302m\\faceSegmantation\\maskModifier\\crawledData2\\original\\non_makeup\"\n",
    "file_list = list_files_in_folder(folder_path)\n",
    "# print(\"Files in folder:\", file_list)"
   ]
  },
  {
   "cell_type": "code",
   "execution_count": 19,
   "metadata": {},
   "outputs": [
    {
     "data": {
      "text/plain": [
       "[]"
      ]
     },
     "execution_count": 19,
     "metadata": {},
     "output_type": "execute_result"
    }
   ],
   "source": [
    "# jpg_files = [file for file in os.listdir(folder_path) if file.endswith('.jpg')]\n",
    "# for jpg_file in jpg_files:\n",
    "#     # Generate the new file name with .png extension\n",
    "#     new_name = jpg_file[:-4] + '.png'  # Replace .jpg with .png\n",
    "#     new_name2 = jpg_file[:-4] + 'a.png'\n",
    "#     # Check if the new filename already exists\n",
    "#     if os.path.exists(os.path.join(folder_path, new_name)):\n",
    "#         os.rename(os.path.join(folder_path, jpg_file), os.path.join(folder_path, new_name2))\n",
    "#     else:\n",
    "#         # Rename the file\n",
    "#         os.rename(os.path.join(folder_path, jpg_file), os.path.join(folder_path, new_name))\n"
   ]
  },
  {
   "cell_type": "code",
   "execution_count": 1,
   "metadata": {},
   "outputs": [],
   "source": [
    "import os\n",
    "folder_path = r\"D:\\Project\\DPL302m\\Data\\crawledData2\\generatorOutput\\seg\\afterFix\\seg\\makeup\\GOOD\"\n",
    "png_files = [file for file in os.listdir(folder_path) if file.endswith('.png')]\n",
    "for i, png_file in enumerate(png_files, start=1):\n",
    "    # Generate the new file name with numeric prefix and .png extension\n",
    "    new_name = f'{i:03d}.png'  # Assuming you want 3-digit numbers (e.g., 001.png, 002.png, ...)\n",
    "    # Rename the file\n",
    "    os.rename(os.path.join(folder_path, png_file), os.path.join(folder_path, new_name))"
   ]
  }
 ],
 "metadata": {
  "kernelspec": {
   "display_name": "condavenv",
   "language": "python",
   "name": "python3"
  },
  "language_info": {
   "codemirror_mode": {
    "name": "ipython",
    "version": 3
   },
   "file_extension": ".py",
   "mimetype": "text/x-python",
   "name": "python",
   "nbconvert_exporter": "python",
   "pygments_lexer": "ipython3",
   "version": "3.11.4"
  }
 },
 "nbformat": 4,
 "nbformat_minor": 2
}
