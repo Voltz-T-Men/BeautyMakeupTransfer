{
 "cells": [
  {
   "cell_type": "code",
   "execution_count": null,
   "metadata": {},
   "outputs": [],
   "source": [
    "import cv2\n",
    "import copy\n",
    "import numpy as np\n",
    "import matplotlib.pyplot as plt"
   ]
  },
  {
   "cell_type": "code",
   "execution_count": null,
   "metadata": {},
   "outputs": [],
   "source": [
    "orig_img = cv2.imread(r'D:\\Project\\DPL302m\\faceSegmantation\\maskModifier\\seg\\makeup\\NOT_GOOD\\007.png')\n",
    "cv2_image_masked = copy.deepcopy(orig_img)"
   ]
  },
  {
   "cell_type": "code",
   "execution_count": null,
   "metadata": {},
   "outputs": [],
   "source": [
    "# For visualizing RGB and grayscale images\n",
    "def function5():\n",
    "    gray_image_mask = cv2.cvtColor(cv2_image_masked, cv2.COLOR_BGR2GRAY)\n",
    "    # cv2.imshow(f\"original_1 :{cv2_image_orig.shape}\",cv2_image_orig)\n",
    "    cv2.imshow(f\"original: {cv2_image_masked.shape}\",cv2_image_masked)\n",
    "    cv2.imshow(f\"gray_masked: {gray_image_mask.shape}\",gray_image_mask)\n",
    "    # cv2.imshow(f\"original\",cv2_image_orig)\n",
    "    # cv2.imshow(f\"masked\",cv2_image_masked)\n",
    "    cv2.waitKey(0)\n",
    "    cv2.destroyAllWindows()"
   ]
  },
  {
   "cell_type": "code",
   "execution_count": null,
   "metadata": {},
   "outputs": [],
   "source": [
    "# For cutting the img into 2 half\n",
    "# Read the image\n",
    "def function2():\n",
    "    # Determine the dimensions of the image\n",
    "    height, width, = gray_image_mask.shape\n",
    "\n",
    "    # Crop the image to retain only the right half (assuming horizontal split)\n",
    "\n",
    "    # For 3 channel\n",
    "    # left_half_img = gray_image_mask[:, :width//2, :]\n",
    "    # right_half_img = gray_image_mask[:, width//2:, :]\n",
    "\n",
    "    # For 2 channel\n",
    "    left_half_img = gray_image_mask[:, :width//2:]\n",
    "    right_half_img = gray_image_mask[:, width//2:]\n",
    "\n",
    "    original_img = np.concatenate((left_half_img, right_half_img), axis=1)\n",
    "\n",
    "    # Plot the image\n",
    "    plt.imshow(left_half_img)\n",
    "    plt.axis('off')  # Turn off axis\n",
    "    plt.show()"
   ]
  },
  {
   "cell_type": "code",
   "execution_count": null,
   "metadata": {},
   "outputs": [],
   "source": [
    "# for gray_scale\n",
    "# for identifying classes\n",
    "def function4():\n",
    "    # # For whole img\n",
    "    # for j in range(0,512):\n",
    "    #     for k in range(0,512):\n",
    "    #         if gray_image_mask[j,k] == 80:\n",
    "    #             gray_image_mask[j,k] = 80\n",
    "\n",
    "    # For half img:\n",
    "    load_img = copy.deepcopy(left_half_img)\n",
    "    for j in range(0,512):\n",
    "        for k in range(0,256):\n",
    "            if load_img[j,k] == 79:\n",
    "                load_img[j,k] = 255\n",
    "    plt.imshow(load_img)"
   ]
  },
  {
   "cell_type": "code",
   "execution_count": null,
   "metadata": {},
   "outputs": [],
   "source": [
    "def function1():\n",
    "    load_img = copy.deepcopy(left_half_img)\n",
    "    height1, width1 = load_img.shape[:2]\n",
    "    height = range(height1-1)\n",
    "    width = range(width1-1)\n",
    "\n",
    "    # for k in range(0,512):\n",
    "    #     for j in range(0,512):\n",
    "    #         # case 1\n",
    "    #         if copy_plt_image[j,k] == 150 and copy_plt_image[j+1,k] == 80:\n",
    "    #             copy_plt_image[j+1,k] = 150\n",
    "    #         # case 3\n",
    "    #         if copy_plt_image[j,k] == 129 and copy_plt_image[j+1,k] == 54:\n",
    "    #             copy_plt_image[j+1,k] = 129\n",
    "\n",
    "    for j in height:\n",
    "        for k in width:\n",
    "            # if load_img[j,k] == 230:\n",
    "            #      load_img[j,k] = 0\n",
    "            # case 1\n",
    "            if load_img[j,k] == 79 and load_img[j,k+1] == 230:\n",
    "                load_img[j,k+1] = 79\n",
    "            # if load_img[j,k] == 230 and load_img[j+1,j+1] == 79:\n",
    "            #     load_img[j+1,k+1] = 79\n",
    "            # # case 3\n",
    "            # if load_img[j,k] == 129 and load_img[j,k+1] == 54:\n",
    "            #     load_img[j,k+1] = 129\n",
    "            # for k in width:\n",
    "            #     for j in height:\n",
    "            # #         # if load_img[j,k] == 230:\n",
    "            # #         #      load_img[j,k] = 0\n",
    "            # #         # case 1\n",
    "            #         if load_img[k,j] == 79 and load_img[k,j+1] == 230:\n",
    "            #             load_img[k,j+1] = 79\n",
    "            # #         # if load_img[j,k] == 230 and load_img[j+1,j+1] == 79:\n",
    "            # #         #     load_img[j+1,k+1] = 79\n",
    "            # #         # # case 3\n",
    "            # #         # if load_img[j,k] == 129 and load_img[j,k+1] == 54:\n",
    "            # #         #     load_img[j,k+1] = 129\n",
    "    plt.imshow(load_img)\n",
    "    output_path = r'D:\\Project\\DPL302m\\faceSegmantation\\segFixer\\output.png'\n",
    "    cv2.imwrite(output_path, copy_plt_image)\n",
    "    #ok"
   ]
  },
  {
   "cell_type": "code",
   "execution_count": null,
   "metadata": {},
   "outputs": [],
   "source": [
    "def function3():\n",
    "    cv2_image_masked = cv2.imread(r'D:\\Project\\DPL302m\\faceSegmantation\\segFixer\\output.png')\n",
    "    gray_image_mask = cv2.cvtColor(cv2_image_masked, cv2.COLOR_BGR2GRAY)\n",
    "    copy_plt_image = gray_image_mask\n",
    "\n",
    "    colorized_viridis = cv2.applyColorMap(copy_plt_image, cv2.COLORMAP_VIRIDIS)\n",
    "    output_path = r'D:\\Project\\DPL302m\\faceSegmantation\\segFixer\\output_color.png'\n",
    "    cv2.imwrite(output_path, colorized_viridis)\n",
    "    # Display the original image, grayscale image, and colorized image\n",
    "    # cv2.imshow('Original Image', cv2_image_masked)\n",
    "    # # cv2.imshow('Grayscale Image', gray_image)\n",
    "    # cv2.imshow('Colorized Image', colorized_viridis)\n",
    "    # cv2.waitKey(0)\n",
    "    # cv2.destroyAllWindows()"
   ]
  },
  {
   "cell_type": "code",
   "execution_count": 26,
   "metadata": {},
   "outputs": [],
   "source": [
    "%reset -f"
   ]
  },
  {
   "cell_type": "code",
   "execution_count": null,
   "metadata": {},
   "outputs": [],
   "source": [
    "# seg_img = cv2.imread(r\"D:\\Project\\DPL302m\\faceSegmantation\\maskModifier\\seg_final\\makeup\\081.png\")\n",
    "seg_img = cv2.imread(r'D:\\Project\\DPL302m\\Data\\all\\segs\\makeup\\0f86560090f166c56a61f57e39322f35.png')\n",
    "copy_seg_img = copy.deepcopy(seg_img)\n",
    "# Define the color to be replaced and the color to replace it with\n",
    "color_to_replace = np.array([5,5,5])\n",
    "replacement_color = np.array([255,255,255])\n",
    "\n",
    "# # Find pixels with the color to be replaced\n",
    "mask = np.all(copy_seg_img == color_to_replace, axis=-1)\n",
    "\n",
    "# # Replace pixels with the replacement color\n",
    "copy_seg_img[mask] = replacement_color\n",
    "plt.imshow(copy_seg_img)\n",
    "# Display the result\n",
    "# cv2.imshow('Modified Segmentation Image', copy_seg_img)\n",
    "# cv2.waitKey(0)\n",
    "# cv2.destroyAllWindows()\n"
   ]
  },
  {
   "cell_type": "code",
   "execution_count": null,
   "metadata": {},
   "outputs": [],
   "source": [
    "import cv2\n",
    "import numpy as np\n",
    "\n",
    "# Load the segmentation image\n",
    "seg_img = cv2.imread(r'D:\\Project\\DPL302m\\faceSegmantation\\maskModifier\\GANMask.png')\n",
    "\n",
    "# Define the mapping from old colors to new colors\n",
    "color_mapping = {\n",
    "    ( 10,10,10): (255, 255, 170),  # hair\n",
    "    ( 0,0,0): (255, 255, 255),  # background\n",
    "    (0, 255, 170): (0,0,0),      # earring\n",
    "    (255, 255, 0): (0, 170, 255),      # necklace\n",
    "    (13,13,13): (0, 170, 255),      # neck\n",
    "    # (0, 255, 85): (0, 255, 85),        # nope\n",
    "    (12,12,12): ( 0, 255,  85 ),      # right ear\n",
    "    (11,11,11): (170, 255,   0),             # left ear\n",
    "    (5,5,5): (0, 255, 0),          # right eye\n",
    "    (3,3,3): (255, 0, 85),        # right eyebrow\n",
    "    (2,2,2): (255, 170, 0),      # left eyebrow\n",
    "    (6,6,6): (0, 0, 255),          # nose\n",
    "    (1,1,1): (255, 85, 0),        # face\n",
    "    (4,4,4): (255, 0, 170),      # left eye\n",
    "    (9,9,9): (0, 85, 255),        # lower lip\n",
    "    (7,7,7): (170, 0, 255)       # upper lip\n",
    "}\n",
    "\n",
    "# Replace old colors with new colors\n",
    "for old_color, new_color in color_mapping.items():\n",
    "    seg_img[np.all(seg_img == old_color, axis=-1)] = new_color\n",
    "\n",
    "# Display the result\n",
    "cv2.imshow('Modified Segmentation Image', seg_img)\n",
    "cv2.waitKey(0)\n",
    "cv2.destroyAllWindows()\n"
   ]
  }
 ],
 "metadata": {
  "kernelspec": {
   "display_name": "condavenv",
   "language": "python",
   "name": "python3"
  },
  "language_info": {
   "codemirror_mode": {
    "name": "ipython",
    "version": 3
   },
   "file_extension": ".py",
   "mimetype": "text/x-python",
   "name": "python",
   "nbconvert_exporter": "python",
   "pygments_lexer": "ipython3",
   "version": "3.11.4"
  }
 },
 "nbformat": 4,
 "nbformat_minor": 2
}
