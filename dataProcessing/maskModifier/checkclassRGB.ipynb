{
 "cells": [
  {
   "cell_type": "code",
   "execution_count": 3,
   "metadata": {},
   "outputs": [],
   "source": [
    "import cv2\n",
    "import copy\n",
    "import numpy as np\n",
    "import matplotlib.pyplot as plt"
   ]
  },
  {
   "cell_type": "code",
   "execution_count": 34,
   "metadata": {},
   "outputs": [
    {
     "name": "stdout",
     "output_type": "stream",
     "text": [
      "(1024, 3)\n",
      "(15, 3)\n"
     ]
    }
   ],
   "source": [
    "resized_img = cv2.imread(r'D:\\Project\\DPL302m\\faceSegmantation\\maskModifier\\seg_resized\\makeup\\003.png')\n",
    "not_resized_img = cv2.imread(r'D:\\Project\\DPL302m\\faceSegmantation\\maskModifier\\seg\\makeup\\003.png')\n",
    "\n",
    "def check_nums_class(seg_img):\n",
    "    colors = np.unique(seg_img.reshape(-1, seg_img.shape[2]), axis=0)\n",
    "    # colors = np.array2string(colors, separator=', ')\n",
    "    colors = np.array(colors)\n",
    "    return colors.shape\n",
    "print(check_nums_class(resized_img))\n",
    "print(check_nums_class(not_resized_img))"
   ]
  },
  {
   "cell_type": "code",
   "execution_count": 4,
   "metadata": {},
   "outputs": [],
   "source": [
    "def check_nums_class(seg_img):\n",
    "    # Reshape the image to a 2D array where each row represents a pixel\n",
    "    pixels = seg_img.reshape(-1, seg_img.shape[2])\n",
    "\n",
    "    # Find unique colors (combinations of RGB values)\n",
    "    unique_colors = np.unique(pixels, axis=0)\n",
    "\n",
    "    # Convert the unique colors to a list of tuples\n",
    "    unique_colors_list = [tuple(color) for color in unique_colors]\n",
    "\n",
    "    return unique_colors_list"
   ]
  },
  {
   "cell_type": "code",
   "execution_count": 13,
   "metadata": {},
   "outputs": [
    {
     "data": {
      "text/plain": [
       "[(0, 0, 0),\n",
       " (1, 1, 1),\n",
       " (2, 2, 2),\n",
       " (3, 3, 3),\n",
       " (4, 4, 4),\n",
       " (5, 5, 5),\n",
       " (6, 6, 6),\n",
       " (7, 7, 7),\n",
       " (9, 9, 9),\n",
       " (10, 10, 10),\n",
       " (12, 12, 12),\n",
       " (13, 13, 13)]"
      ]
     },
     "execution_count": 13,
     "metadata": {},
     "output_type": "execute_result"
    }
   ],
   "source": [
    "resized_img = cv2.imread(r'D:\\Project\\DPL302m\\faceSegmantation\\maskModifier\\seg_final\\non_makeup\\good\\017.png')\n",
    "\n",
    "check_nums_class(resized_img)"
   ]
  },
  {
   "cell_type": "code",
   "execution_count": 10,
   "metadata": {},
   "outputs": [
    {
     "data": {
      "text/plain": [
       "14"
      ]
     },
     "execution_count": 10,
     "metadata": {},
     "output_type": "execute_result"
    }
   ],
   "source": [
    "resized_img = cv2.imread(r'D:\\Project\\DPL302m\\faceSegmantation\\maskModifier\\seg_final\\makeup\\009.png')\n",
    "len(check_nums_class(resized_img))"
   ]
  }
 ],
 "metadata": {
  "kernelspec": {
   "display_name": "condavenv",
   "language": "python",
   "name": "python3"
  },
  "language_info": {
   "codemirror_mode": {
    "name": "ipython",
    "version": 3
   },
   "file_extension": ".py",
   "mimetype": "text/x-python",
   "name": "python",
   "nbconvert_exporter": "python",
   "pygments_lexer": "ipython3",
   "version": "3.11.4"
  }
 },
 "nbformat": 4,
 "nbformat_minor": 2
}
