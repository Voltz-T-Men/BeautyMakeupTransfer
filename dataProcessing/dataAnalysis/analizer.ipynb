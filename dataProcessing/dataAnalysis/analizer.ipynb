{
 "cells": [
  {
   "cell_type": "code",
   "execution_count": 2,
   "metadata": {},
   "outputs": [],
   "source": [
    "import os\n",
    "import cv2\n",
    "\n",
    "def list_files_in_folder(folder_path):\n",
    "    file_list = []\n",
    "    # Iterate through all files in the folder\n",
    "    for file_name in os.listdir(folder_path):\n",
    "        # Check if the path is a file (not a directory)\n",
    "        if os.path.isfile(os.path.join(folder_path, file_name)):\n",
    "            file_list.append(file_name)\n",
    "    return file_list\n",
    "\n",
    "folder_path =  r\"D:\\Project\\DPL302m\\faceSegmantation\\dataAnalysis\\original\\makeup\"\n",
    "file_list = list_files_in_folder(folder_path)\n",
    "size_count = {}  # Dictionary to store count of each image size\n",
    "\n",
    "# Loop through each file in the folder\n",
    "for filename in file_list:\n",
    "    img = cv2.imread(os.path.join(folder_path, filename))  # Load the image\n",
    "    if img is not None:  # Check if the image is successfully loaded\n",
    "        # Get the shape of the image and add it to size_count\n",
    "        shape = img.shape[:2]\n",
    "        if shape in size_count:\n",
    "            size_count[shape] += 1\n",
    "        else:\n",
    "            size_count[shape] = 1\n",
    "\n",
    "with open('rawDataSizeCount.txt', 'w') as file:\n",
    "    for key, value in size_count.items():\n",
    "        file.write(f'{key}: {value}\\n')"
   ]
  },
  {
   "cell_type": "code",
   "execution_count": 4,
   "metadata": {},
   "outputs": [
    {
     "data": {
      "image/png": "[encoded data removed]",
      "text/plain": [
       "<Figure size 1000x600 with 1 Axes>"
      ]
     },
     "metadata": {},
     "output_type": "display_data"
    }
   ],
   "source": [
    "import matplotlib.pyplot as plt\n",
    "sizes = list(size_count.keys())\n",
    "counts = list(size_count.values())\n",
    "\n",
    "# Plotting\n",
    "plt.figure(figsize=(10, 6))  # Set the size of the plot\n",
    "plt.bar(range(len(sizes)), counts, tick_label=[str(size) for size in sizes])\n",
    "plt.xlabel('Image Size')  # Label for x-axis\n",
    "plt.ylabel('Count')  # Label for y-axis\n",
    "plt.title('Image Size Distribution')  # Title of the plot\n",
    "plt.xticks(rotation=0, ha='right')  # Rotate x-axis labels for better readability\n",
    "plt.tight_layout()  # Adjust layout to prevent clipping of labels\n",
    "plt.show()"
   ]
  },
  {
   "cell_type": "code",
   "execution_count": null,
   "metadata": {},
   "outputs": [],
   "source": [
    "import matplotlib.pyplot as plt\n",
    "\n",
    "# Assuming size_count is a dictionary with image sizes as keys and their counts as values\n",
    "sizes = list(size_count.keys())\n",
    "counts = list(size_count.values())\n",
    "\n",
    "# Plotting with wider plot\n",
    "plt.figure(figsize=(30, 6))  # Set the size of the plot with increased width\n",
    "plt.bar(range(len(sizes)), counts, tick_label=[str(size) for size in sizes])\n",
    "plt.xlabel('Image Size')  # Label for x-axis\n",
    "plt.ylabel('Count')  # Label for y-axis\n",
    "plt.title('Image Size Distribution')  # Title of the plot\n",
    "\n",
    "# Adjust x-axis labels\n",
    "plt.xticks(range(len(sizes)), [str(size) for size in sizes], rotation=90, ha='right')\n",
    "\n",
    "plt.tight_layout()  # Adjust layout to prevent clipping of labels\n",
    "plt.show()\n"
   ]
  },
  {
   "cell_type": "code",
   "execution_count": null,
   "metadata": {},
   "outputs": [],
   "source": [
    "import matplotlib.pyplot as plt\n",
    "\n",
    "# Assuming size_count is a dictionary with image sizes as keys and their counts as values\n",
    "sizes = list(size_count.keys())\n",
    "counts = list(size_count.values())\n",
    "\n",
    "# Filter sizes and counts for those with count more than 1\n",
    "filtered_sizes = []\n",
    "filtered_counts = []\n",
    "for size, count in zip(sizes, counts):\n",
    "    if count > 1:\n",
    "        filtered_sizes.append(size)\n",
    "        filtered_counts.append(count)\n",
    "\n",
    "# Plotting\n",
    "plt.figure(figsize=(10, 6))  # Set the size of the plot\n",
    "plt.bar(range(len(filtered_sizes)), filtered_counts, tick_label=[str(size) for size in filtered_sizes])\n",
    "plt.xlabel('Image Size')  # Label for x-axis\n",
    "plt.ylabel('Count')  # Label for y-axis\n",
    "plt.title('Image Size Distribution (Count > 1)')  # Title of the plot\n",
    "plt.xticks(rotation=45, ha='right')  # Rotate x-axis labels for better readability\n",
    "plt.tight_layout()  # Adjust layout to prevent clipping of labels\n",
    "plt.show()\n"
   ]
  },
  {
   "cell_type": "code",
   "execution_count": null,
   "metadata": {},
   "outputs": [],
   "source": [
    "import matplotlib.pyplot as plt\n",
    "\n",
    "# Assuming size_count is a dictionary with image sizes as keys and their counts as values\n",
    "sizes = list(size_count.keys())\n",
    "counts = list(size_count.values())\n",
    "\n",
    "# Plotting the histogram\n",
    "plt.figure(figsize=(10, 6))  # Set the size of the plot\n",
    "plt.hist(counts, bins=20, edgecolor='black')  # Plot the histogram with 20 bins and black edges\n",
    "plt.xlabel('Count of Images')  # Label for x-axis\n",
    "plt.ylabel('Frequency')  # Label for y-axis\n",
    "plt.title('Histogram of Image Size Counts')  # Title of the plot\n",
    "plt.grid(True)  # Add gridlines for better readability\n",
    "plt.tight_layout()  # Adjust layout to prevent clipping of labels\n",
    "plt.show()\n"
   ]
  },
  {
   "cell_type": "code",
   "execution_count": null,
   "metadata": {},
   "outputs": [],
   "source": [
    "import matplotlib.pyplot as plt\n",
    "\n",
    "# Assuming size_count is a dictionary with image sizes as keys and their counts as values\n",
    "sizes = list(size_count.keys())\n",
    "counts = list(size_count.values())\n",
    "\n",
    "# Calculate the percentage of each count relative to the total number of image sizes\n",
    "percentage_counts = [count / len(sizes) * 100 for count in counts]\n",
    "\n",
    "# Plotting the percentages in a separate plot\n",
    "plt.figure(figsize=(8, 5))  # Set the size of the plot\n",
    "plt.bar(range(len(counts)), percentage_counts, color='skyblue', edgecolor='black')  # Plot the bar chart\n",
    "plt.xlabel('Count Index')  # Label for x-axis\n",
    "plt.ylabel('Percentage (%)')  # Label for y-axis\n",
    "plt.title('Percentage of Image Size Counts')  # Title of the plot\n",
    "\n",
    "# Add text annotations for each count percentage\n",
    "for i, percentage in enumerate(percentage_counts):\n",
    "    plt.text(i, percentage, f'{percentage:.2f}%', ha='center', va='bottom')\n",
    "\n",
    "plt.xticks(range(len(counts)), range(1, len(counts) + 1))  # Set x-axis ticks to match the count index\n",
    "plt.tight_layout()  # Adjust layout to prevent clipping of labels\n",
    "plt.show()\n"
   ]
  },
  {
   "cell_type": "code",
   "execution_count": null,
   "metadata": {},
   "outputs": [],
   "source": [
    "import matplotlib.pyplot as plt\n",
    "\n",
    "# Assuming size_count is a dictionary with image sizes as keys and their counts as values\n",
    "sizes = list(size_count.keys())\n",
    "counts = list(size_count.values())\n",
    "\n",
    "# Plotting the pie chart\n",
    "plt.figure(figsize=(8, 8))  # Set the size of the plot\n",
    "plt.pie(counts, labels=[str(size) for size in sizes], autopct='%1.1f%%', startangle=140)\n",
    "plt.title('Distribution of Image Sizes')\n",
    "plt.axis('equal')  # Equal aspect ratio ensures that pie is drawn as a circl\n"
   ]
  },
  {
   "cell_type": "code",
   "execution_count": null,
   "metadata": {},
   "outputs": [],
   "source": [
    "import matplotlib.pyplot as plt\n",
    "\n",
    "# Assuming size_count is a dictionary with image sizes as keys and their counts as values\n",
    "sizes = list(size_count.keys())\n",
    "\n",
    "# Extract width and height from sizes\n",
    "widths = [size[0] for size in sizes]\n",
    "heights = [size[1] for size in sizes]\n",
    "\n",
    "# Plotting the scatter plot\n",
    "plt.figure(figsize=(10, 6))  # Set the size of the plot\n",
    "plt.scatter(widths, heights, s=counts, alpha=0.5)  # Size of points corresponds to the count of images with that size\n",
    "plt.xlabel('Image Width')  # Label for x-axis\n",
    "plt.ylabel('Image Height')  # Label for y-axis\n",
    "plt.title('Scatter Plot of Image Sizes')  # Title of the plot\n",
    "plt.grid(True)  # Add gridlines for better readability\n",
    "plt.tight_layout()  # Adjust layout to prevent clipping of labels\n",
    "plt.show()\n"
   ]
  },
  {
   "cell_type": "code",
   "execution_count": null,
   "metadata": {},
   "outputs": [],
   "source": [
    "import matplotlib.pyplot as plt\n",
    "\n",
    "# Assuming size_count is a dictionary with image sizes as keys and their counts as values\n",
    "sizes = list(size_count.keys())\n",
    "\n",
    "# Extract width and height from sizes\n",
    "widths = [size[0] for size in sizes]\n",
    "heights = [size[1] for size in sizes]\n",
    "\n",
    "# Plotting the scatter plot with bigger dots\n",
    "plt.figure(figsize=(10, 6))  # Set the size of the plot\n",
    "plt.scatter(widths, heights, s=100, alpha=0.5)  # Increase the size of points to 100\n",
    "plt.xlabel('Image Width')  # Label for x-axis\n",
    "plt.ylabel('Image Height')  # Label for y-axis\n",
    "plt.title('Scatter Plot of Image Sizes')  # Title of the plot\n",
    "plt.grid(True)  # Add gridlines for better readability\n",
    "plt.tight_layout()  # Adjust layout to prevent clipping of labels\n",
    "plt.show()\n"
   ]
  }
 ],
 "metadata": {
  "kernelspec": {
   "display_name": "condavenv",
   "language": "python",
   "name": "python3"
  },
  "language_info": {
   "codemirror_mode": {
    "name": "ipython",
    "version": 3
   },
   "file_extension": ".py",
   "mimetype": "text/x-python",
   "name": "python",
   "nbconvert_exporter": "python",
   "pygments_lexer": "ipython3",
   "version": "3.11.4"
  }
 },
 "nbformat": 4,
 "nbformat_minor": 2
}
